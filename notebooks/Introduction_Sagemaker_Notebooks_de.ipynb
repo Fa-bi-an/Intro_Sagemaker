{
 "cells": [
  {
   "cell_type": "markdown",
   "metadata": {},
   "source": [
    "Stand: 10/2020 | Autor: Fabian\n",
    "\n",
    "# AWS Sagemaker\n",
    "Sagemaker ist ein Service von AWS zum trainieren von Machine Learning Modellen.\n",
    "Hierzu erfüllt Sagemaker unterschiedliche Aufgaben. Eine Teil des Services ist die Bereitstellung von Jupyter Notebook Instanzen, die ganz ähnlich wie Jupyter Notebooks auf einem Laptop verwendet werden können. Die Unterschiede werden in diesem Notebook aufgezeigt.\n",
    "\n",
    "Im nächsten Teil wird geziegt, wie die Sagemaker API verwendet werden kann, um sklearn und XGB aus den Sagemaker Containern zu verwenden und so Modelle cleverver trainieren zu lassen.\n",
    "\n",
    "\n",
    "# Einstieg in Sagemaker Notebooks\n",
    "\n",
    "Ziel dieses Notebooks ist es die Unterschiede zwischen Jupyter auf deinem Laptop und Jupyter in Sagemaker aufzuzeigen.\n",
    "\n",
    "## Importieren von Paketen\n",
    "\n",
    "Genau wie auf deinem Notebook, kannst du bereits installierte Pakete importieren. Hier besteht __kein__ Unterschied zwischen der Nutzung von Jupyter auf deinem Laptop oder in Sagemaker.\n"
   ]
  },
  {
   "cell_type": "code",
   "execution_count": 8,
   "metadata": {},
   "outputs": [],
   "source": [
    "import pandas as pd\n",
    "from datetime import datetime\n",
    "\n",
    "import pickle\n",
    "import boto3 # Libary für den Zugriff aus AWS Services wie S3\n",
    "from io import BytesIO"
   ]
  },
  {
   "cell_type": "code",
   "execution_count": 2,
   "metadata": {},
   "outputs": [
    {
     "data": {
      "text/plain": [
       "'1.0.1'"
      ]
     },
     "execution_count": 2,
     "metadata": {},
     "output_type": "execute_result"
    }
   ],
   "source": [
    "pd.__version__"
   ]
  },
  {
   "cell_type": "markdown",
   "metadata": {},
   "source": [
    "## Sagemaker unterstützt Jupyter Magic\n",
    "Mit den Magic Commands können Behelfe in der Commandline ausgeführt werden."
   ]
  },
  {
   "cell_type": "code",
   "execution_count": 9,
   "metadata": {},
   "outputs": [
    {
     "name": "stdout",
     "output_type": "stream",
     "text": [
      "hallo\r\n"
     ]
    }
   ],
   "source": [
    "! echo hallo"
   ]
  },
  {
   "cell_type": "code",
   "execution_count": 5,
   "metadata": {},
   "outputs": [
    {
     "name": "stdout",
     "output_type": "stream",
     "text": [
      "/home/ec2-user/SageMaker\r\n"
     ]
    }
   ],
   "source": [
    "! pwd"
   ]
  },
  {
   "cell_type": "code",
   "execution_count": 3,
   "metadata": {},
   "outputs": [
    {
     "name": "stdout",
     "output_type": "stream",
     "text": [
      "Python 3.6.10 :: Anaconda, Inc.\r\n"
     ]
    }
   ],
   "source": [
    "! python --version"
   ]
  },
  {
   "cell_type": "code",
   "execution_count": 6,
   "metadata": {},
   "outputs": [
    {
     "name": "stdout",
     "output_type": "stream",
     "text": [
      "Package                            Version            \r\n",
      "---------------------------------- -------------------\r\n",
      "absl-py                            0.10.0             \r\n",
      "alabaster                          0.7.12             \r\n",
      "anaconda-client                    1.7.2              \r\n",
      "anaconda-project                   0.8.3              \r\n",
      "argh                               0.26.2             \r\n",
      "asn1crypto                         1.3.0              \r\n",
      "astor                              0.8.1              \r\n",
      "astroid                            2.4.2              \r\n",
      "astropy                            4.0                \r\n",
      "atomicwrites                       1.3.0              \r\n",
      "attrs                              19.3.0             \r\n",
      "autopep8                           1.4.4              \r\n",
      "autovizwidget                      0.16.0             \r\n",
      "awscli                             1.18.149           \r\n",
      "Babel                              2.8.0              \r\n",
      "backcall                           0.1.0              \r\n",
      "backports.shutil-get-terminal-size 1.0.0              \r\n",
      "bcrypt                             3.2.0              \r\n",
      "beautifulsoup4                     4.8.2              \r\n",
      "bitarray                           1.2.1              \r\n",
      "bkcharts                           0.2                \r\n",
      "bleach                             3.1.0              \r\n",
      "bokeh                              1.4.0              \r\n",
      "boto                               2.49.0             \r\n",
      "boto3                              1.15.8             \r\n",
      "botocore                           1.18.8             \r\n",
      "Bottleneck                         1.3.2              \r\n",
      "cached-property                    1.5.2              \r\n",
      "cachetools                         4.1.1              \r\n",
      "certifi                            2020.6.20          \r\n",
      "cffi                               1.14.0             \r\n",
      "chardet                            3.0.4              \r\n",
      "Click                              7.0                \r\n",
      "cloudpickle                        1.3.0              \r\n",
      "clyent                             1.2.2              \r\n",
      "colorama                           0.4.3              \r\n",
      "contextlib2                        0.6.0.post1        \r\n",
      "cryptography                       2.8                \r\n",
      "cycler                             0.10.0             \r\n",
      "Cython                             0.29.15            \r\n",
      "cytoolz                            0.10.1             \r\n",
      "dask                               2.11.0             \r\n",
      "decorator                          4.4.1              \r\n",
      "defusedxml                         0.6.0              \r\n",
      "diff-match-patch                   20181111           \r\n",
      "distributed                        2.11.0             \r\n",
      "distro                             1.5.0              \r\n",
      "docker                             4.3.1              \r\n",
      "docker-compose                     1.27.4             \r\n",
      "dockerpty                          0.4.1              \r\n",
      "docopt                             0.6.2              \r\n",
      "docutils                           0.15.2             \r\n",
      "entrypoints                        0.3                \r\n",
      "enum34                             1.1.10             \r\n",
      "environment-kernels                1.1.1              \r\n",
      "et-xmlfile                         1.0.1              \r\n",
      "fastcache                          1.1.0              \r\n",
      "filelock                           3.0.12             \r\n",
      "flake8                             3.7.9              \r\n",
      "Flask                              1.1.1              \r\n",
      "fsspec                             0.6.2              \r\n",
      "future                             0.18.2             \r\n",
      "gast                               0.2.2              \r\n",
      "gevent                             1.4.0              \r\n",
      "glob2                              0.7                \r\n",
      "gmpy2                              2.0.8              \r\n",
      "google-auth                        1.21.1             \r\n",
      "google-auth-oauthlib               0.4.1              \r\n",
      "google-pasta                       0.2.0              \r\n",
      "greenlet                           0.4.15             \r\n",
      "grpcio                             1.32.0             \r\n",
      "h5py                               2.10.0             \r\n",
      "hdijupyterutils                    0.16.0             \r\n",
      "HeapDict                           1.0.1              \r\n",
      "horovod                            0.19.5             \r\n",
      "html5lib                           1.0.1              \r\n",
      "hypothesis                         5.5.4              \r\n",
      "idna                               2.8                \r\n",
      "imageio                            2.6.1              \r\n",
      "imagesize                          1.2.0              \r\n",
      "importlib-metadata                 1.5.0              \r\n",
      "intervaltree                       3.0.2              \r\n",
      "ipykernel                          5.1.4              \r\n",
      "ipyparallel                        6.3.0              \r\n",
      "ipython                            7.12.0             \r\n",
      "ipython-genutils                   0.2.0              \r\n",
      "ipywidgets                         7.5.1              \r\n",
      "isort                              4.3.21             \r\n",
      "itsdangerous                       1.1.0              \r\n",
      "jdcal                              1.4.1              \r\n",
      "jedi                               0.14.1             \r\n",
      "jeepney                            0.4.2              \r\n",
      "Jinja2                             2.11.1             \r\n",
      "jmespath                           0.10.0             \r\n",
      "joblib                             0.14.1             \r\n",
      "json5                              0.9.1              \r\n",
      "jsonschema                         3.2.0              \r\n",
      "jupyter                            1.0.0              \r\n",
      "jupyter-client                     5.3.4              \r\n",
      "jupyter-console                    6.1.0              \r\n",
      "jupyter-core                       4.6.1              \r\n",
      "jupyterlab                         1.2.6              \r\n",
      "jupyterlab-server                  1.0.6              \r\n",
      "Keras                              2.3.0              \r\n",
      "Keras-Applications                 1.0.8              \r\n",
      "Keras-Preprocessing                1.1.2              \r\n",
      "keyring                            21.1.0             \r\n",
      "kiwisolver                         1.1.0              \r\n",
      "lazy-object-proxy                  1.4.3              \r\n",
      "libarchive-c                       2.8                \r\n",
      "lief                               0.9.0              \r\n",
      "llvmlite                           0.31.0             \r\n",
      "locket                             0.2.0              \r\n",
      "lxml                               4.5.0              \r\n",
      "Markdown                           3.2.2              \r\n",
      "MarkupSafe                         1.1.1              \r\n",
      "matplotlib                         3.1.3              \r\n",
      "mccabe                             0.6.1              \r\n",
      "mistune                            0.8.4              \r\n",
      "mkl-fft                            1.1.0              \r\n",
      "mkl-random                         1.1.1              \r\n",
      "mkl-service                        2.3.0              \r\n",
      "mock                               4.0.1              \r\n",
      "more-itertools                     8.2.0              \r\n",
      "mpmath                             1.1.0              \r\n",
      "msgpack                            0.6.1              \r\n",
      "multipledispatch                   0.6.0              \r\n",
      "nb-conda                           2.2.1              \r\n",
      "nb-conda-kernels                   2.2.4              \r\n",
      "nbconvert                          5.6.1              \r\n",
      "nbformat                           5.0.4              \r\n",
      "networkx                           2.4                \r\n",
      "nltk                               3.4.5              \r\n",
      "nose                               1.3.7              \r\n",
      "notebook                           6.0.3              \r\n",
      "numba                              0.48.0             \r\n",
      "numexpr                            2.7.1              \r\n",
      "numpy                              1.19.1             \r\n",
      "numpydoc                           0.9.2              \r\n",
      "oauthlib                           3.1.0              \r\n",
      "olefile                            0.46               \r\n",
      "opencv-python                      4.2.0.32           \r\n",
      "openpyxl                           3.0.3              \r\n",
      "opt-einsum                         3.3.0              \r\n",
      "packaging                          20.1               \r\n",
      "pandas                             1.0.1              \r\n",
      "pandocfilters                      1.4.2              \r\n",
      "paramiko                           2.7.2              \r\n",
      "parso                              0.5.2              \r\n",
      "partd                              1.1.0              \r\n",
      "path                               13.1.0             \r\n",
      "pathlib2                           2.3.5              \r\n",
      "pathtools                          0.1.2              \r\n",
      "patsy                              0.5.1              \r\n",
      "pep8                               1.7.1              \r\n",
      "pexpect                            4.8.0              \r\n",
      "pickleshare                        0.7.5              \r\n",
      "Pillow                             7.0.0              \r\n",
      "pip                                20.0.2             \r\n",
      "pkginfo                            1.5.0.1            \r\n",
      "plotly                             4.10.0             \r\n",
      "pluggy                             0.13.1             \r\n",
      "ply                                3.11               \r\n",
      "prometheus-client                  0.7.1              \r\n",
      "prompt-toolkit                     3.0.3              \r\n",
      "protobuf                           3.13.0             \r\n",
      "protobuf3-to-dict                  0.1.5              \r\n",
      "psutil                             5.6.7              \r\n",
      "psycopg2                           2.7.5              \r\n",
      "PTable                             0.9.2              \r\n",
      "ptyprocess                         0.6.0              \r\n",
      "py                                 1.8.1              \r\n",
      "py4j                               0.10.7             \r\n",
      "pyasn1                             0.4.8              \r\n",
      "pyasn1-modules                     0.2.8              \r\n",
      "pycodestyle                        2.5.0              \r\n",
      "pycosat                            0.6.3              \r\n",
      "pycparser                          2.19               \r\n",
      "pycrypto                           2.6.1              \r\n",
      "pycurl                             7.43.0.5           \r\n",
      "pydocstyle                         4.0.1              \r\n",
      "pyflakes                           2.1.1              \r\n",
      "pygal                              2.4.0              \r\n",
      "Pygments                           2.5.2              \r\n",
      "pykerberos                         1.2.1              \r\n",
      "pylint                             2.5.3              \r\n",
      "PyNaCl                             1.4.0              \r\n",
      "pyodbc                             4.0.0-unsupported  \r\n",
      "pyOpenSSL                          19.1.0             \r\n",
      "pyparsing                          2.4.6              \r\n",
      "pyrsistent                         0.15.7             \r\n",
      "PySocks                            1.7.1              \r\n",
      "pyspark                            2.3.4              \r\n",
      "pytest                             5.3.5              \r\n",
      "pytest-arraydiff                   0.3                \r\n",
      "pytest-astropy                     0.8.0              \r\n",
      "pytest-astropy-header              0.1.2              \r\n",
      "pytest-doctestplus                 0.5.0              \r\n",
      "pytest-openfiles                   0.4.0              \r\n",
      "pytest-remotedata                  0.3.2              \r\n",
      "python-dateutil                    2.8.1              \r\n",
      "python-dotenv                      0.14.0             \r\n",
      "python-jsonrpc-server              0.3.4              \r\n",
      "python-language-server             0.31.7             \r\n",
      "pytz                               2019.3             \r\n",
      "PyWavelets                         1.1.1              \r\n",
      "pyxdg                              0.26               \r\n",
      "PyYAML                             5.3                \r\n",
      "pyzmq                              18.1.1             \r\n",
      "QDarkStyle                         2.8                \r\n",
      "QtAwesome                          0.6.1              \r\n",
      "qtconsole                          4.6.0              \r\n",
      "QtPy                               1.9.0              \r\n",
      "requests                           2.22.0             \r\n",
      "requests-kerberos                  0.12.0             \r\n",
      "requests-oauthlib                  1.3.0              \r\n",
      "retrying                           1.3.3              \r\n",
      "rope                               0.16.0             \r\n",
      "rsa                                4.5                \r\n",
      "Rtree                              0.9.3              \r\n",
      "ruamel-yaml                        0.15.87            \r\n",
      "s3fs                               0.4.2              \r\n",
      "s3transfer                         0.3.3              \r\n",
      "sagemaker                          1.72.1             \r\n",
      "sagemaker-pyspark                  1.4.1              \r\n",
      "scikit-image                       0.16.2             \r\n",
      "scikit-learn                       0.23.2             \r\n",
      "scipy                              1.4.1              \r\n",
      "seaborn                            0.10.0             \r\n",
      "SecretStorage                      3.1.2              \r\n",
      "Send2Trash                         1.5.0              \r\n",
      "setuptools                         45.2.0.post20200210\r\n",
      "simplegeneric                      0.8.1              \r\n",
      "singledispatch                     3.4.0.3            \r\n",
      "six                                1.14.0             \r\n",
      "smdebug-rulesconfig                0.1.4              \r\n",
      "snowballstemmer                    2.0.0              \r\n",
      "sortedcollections                  1.1.2              \r\n",
      "sortedcontainers                   2.1.0              \r\n",
      "soupsieve                          1.9.5              \r\n",
      "sparkmagic                         0.15.0             \r\n",
      "Sphinx                             2.4.0              \r\n",
      "sphinxcontrib-applehelp            1.0.1              \r\n",
      "sphinxcontrib-devhelp              1.0.1              \r\n",
      "sphinxcontrib-htmlhelp             1.0.2              \r\n",
      "sphinxcontrib-jsmath               1.0.1              \r\n",
      "sphinxcontrib-qthelp               1.0.2              \r\n",
      "sphinxcontrib-serializinghtml      1.1.3              \r\n",
      "sphinxcontrib-websupport           1.2.0              \r\n",
      "spyder                             4.0.1              \r\n",
      "spyder-kernels                     1.8.1              \r\n",
      "SQLAlchemy                         1.3.13             \r\n",
      "statsmodels                        0.11.0             \r\n",
      "sympy                              1.5.1              \r\n",
      "tables                             3.6.1              \r\n",
      "tblib                              1.6.0              \r\n",
      "tensorboard                        2.1.1              \r\n",
      "tensorflow                         2.1.0              \r\n",
      "tensorflow-estimator               2.1.0              \r\n",
      "tensorflow-serving-api             2.1.0              \r\n",
      "termcolor                          1.1.0              \r\n",
      "terminado                          0.8.3              \r\n",
      "testpath                           0.4.4              \r\n",
      "texttable                          1.6.3              \r\n",
      "threadpoolctl                      2.1.0              \r\n",
      "toml                               0.10.1             \r\n",
      "toolz                              0.10.0             \r\n",
      "tornado                            6.0.3              \r\n",
      "tqdm                               4.42.1             \r\n",
      "traitlets                          4.3.3              \r\n",
      "typed-ast                          1.4.1              \r\n",
      "ujson                              1.35               \r\n",
      "unicodecsv                         0.14.1             \r\n",
      "urllib3                            1.25.8             \r\n",
      "watchdog                           0.10.2             \r\n",
      "wcwidth                            0.1.8              \r\n",
      "webencodings                       0.5.1              \r\n",
      "websocket-client                   0.57.0             \r\n",
      "Werkzeug                           1.0.0              \r\n",
      "wheel                              0.34.2             \r\n",
      "widgetsnbextension                 3.5.1              \r\n",
      "wrapt                              1.11.2             \r\n",
      "wurlitzer                          2.0.0              \r\n",
      "xlrd                               1.2.0              \r\n",
      "XlsxWriter                         1.2.7              \r\n",
      "xlwt                               1.3.0              \r\n",
      "yapf                               0.28.0             \r\n",
      "zict                               1.0.0              \r\n",
      "zipp                               2.2.0              \r\n",
      "\u001b[33mWARNING: You are using pip version 20.0.2; however, version 20.2.3 is available.\r\n",
      "You should consider upgrading via the '/home/ec2-user/anaconda3/envs/tensorflow2_p36/bin/python -m pip install --upgrade pip' command.\u001b[0m\r\n"
     ]
    }
   ],
   "source": [
    "! pip list"
   ]
  },
  {
   "cell_type": "markdown",
   "metadata": {},
   "source": [
    "## Einlesen von Daten\n",
    "Um ein ML Modell trainieren zu können brauchen wir Daten. Welche unterschiedlichen Wege es gibt, Daten zu verwendet wird in diesem Kapitel aufgezeigt.\n",
    "\n",
    "### Beispieldatensätze aus dem Internet laden\n",
    "\n",
    "Daten, welche aus dem Internet geladen werden, können wie auf deinem Laptop auch eingelesen und verarbeitet werden. Hier besteht kein Unterschied zu Sagemaker."
   ]
  },
  {
   "cell_type": "code",
   "execution_count": 10,
   "metadata": {},
   "outputs": [],
   "source": [
    "from sklearn.datasets import load_boston"
   ]
  },
  {
   "cell_type": "code",
   "execution_count": 11,
   "metadata": {},
   "outputs": [],
   "source": [
    "X, y = load_boston(return_X_y=True)"
   ]
  },
  {
   "cell_type": "code",
   "execution_count": 17,
   "metadata": {},
   "outputs": [
    {
     "name": "stdout",
     "output_type": "stream",
     "text": [
      "X: (506, 13), y: (506,)\n"
     ]
    }
   ],
   "source": [
    "print(f'X: {X.shape}, y: {y.shape}')"
   ]
  },
  {
   "cell_type": "code",
   "execution_count": 15,
   "metadata": {},
   "outputs": [
    {
     "data": {
      "text/plain": [
       "(506,)"
      ]
     },
     "execution_count": 15,
     "metadata": {},
     "output_type": "execute_result"
    }
   ],
   "source": [
    "y.shape"
   ]
  },
  {
   "cell_type": "markdown",
   "metadata": {},
   "source": [
    "__Pandas:__"
   ]
  },
  {
   "cell_type": "code",
   "execution_count": 19,
   "metadata": {},
   "outputs": [],
   "source": [
    "df = pd.read_csv('https://raw.githubusercontent.com/Fa-bi-an/Intro_Sagemaker/main/data/train.csv')"
   ]
  },
  {
   "cell_type": "code",
   "execution_count": 20,
   "metadata": {},
   "outputs": [
    {
     "data": {
      "text/html": [
       "<div>\n",
       "<style scoped>\n",
       "    .dataframe tbody tr th:only-of-type {\n",
       "        vertical-align: middle;\n",
       "    }\n",
       "\n",
       "    .dataframe tbody tr th {\n",
       "        vertical-align: top;\n",
       "    }\n",
       "\n",
       "    .dataframe thead th {\n",
       "        text-align: right;\n",
       "    }\n",
       "</style>\n",
       "<table border=\"1\" class=\"dataframe\">\n",
       "  <thead>\n",
       "    <tr style=\"text-align: right;\">\n",
       "      <th></th>\n",
       "      <th>PassengerId</th>\n",
       "      <th>Survived</th>\n",
       "      <th>Pclass</th>\n",
       "      <th>Name</th>\n",
       "      <th>Sex</th>\n",
       "      <th>Age</th>\n",
       "      <th>SibSp</th>\n",
       "      <th>Parch</th>\n",
       "      <th>Ticket</th>\n",
       "      <th>Fare</th>\n",
       "      <th>Cabin</th>\n",
       "      <th>Embarked</th>\n",
       "    </tr>\n",
       "  </thead>\n",
       "  <tbody>\n",
       "    <tr>\n",
       "      <th>0</th>\n",
       "      <td>1</td>\n",
       "      <td>0</td>\n",
       "      <td>3</td>\n",
       "      <td>Braund, Mr. Owen Harris</td>\n",
       "      <td>male</td>\n",
       "      <td>22.0</td>\n",
       "      <td>1</td>\n",
       "      <td>0</td>\n",
       "      <td>A/5 21171</td>\n",
       "      <td>7.2500</td>\n",
       "      <td>NaN</td>\n",
       "      <td>S</td>\n",
       "    </tr>\n",
       "    <tr>\n",
       "      <th>1</th>\n",
       "      <td>2</td>\n",
       "      <td>1</td>\n",
       "      <td>1</td>\n",
       "      <td>Cumings, Mrs. John Bradley (Florence Briggs Th...</td>\n",
       "      <td>female</td>\n",
       "      <td>38.0</td>\n",
       "      <td>1</td>\n",
       "      <td>0</td>\n",
       "      <td>PC 17599</td>\n",
       "      <td>71.2833</td>\n",
       "      <td>C85</td>\n",
       "      <td>C</td>\n",
       "    </tr>\n",
       "    <tr>\n",
       "      <th>2</th>\n",
       "      <td>3</td>\n",
       "      <td>1</td>\n",
       "      <td>3</td>\n",
       "      <td>Heikkinen, Miss. Laina</td>\n",
       "      <td>female</td>\n",
       "      <td>26.0</td>\n",
       "      <td>0</td>\n",
       "      <td>0</td>\n",
       "      <td>STON/O2. 3101282</td>\n",
       "      <td>7.9250</td>\n",
       "      <td>NaN</td>\n",
       "      <td>S</td>\n",
       "    </tr>\n",
       "    <tr>\n",
       "      <th>3</th>\n",
       "      <td>4</td>\n",
       "      <td>1</td>\n",
       "      <td>1</td>\n",
       "      <td>Futrelle, Mrs. Jacques Heath (Lily May Peel)</td>\n",
       "      <td>female</td>\n",
       "      <td>35.0</td>\n",
       "      <td>1</td>\n",
       "      <td>0</td>\n",
       "      <td>113803</td>\n",
       "      <td>53.1000</td>\n",
       "      <td>C123</td>\n",
       "      <td>S</td>\n",
       "    </tr>\n",
       "    <tr>\n",
       "      <th>4</th>\n",
       "      <td>5</td>\n",
       "      <td>0</td>\n",
       "      <td>3</td>\n",
       "      <td>Allen, Mr. William Henry</td>\n",
       "      <td>male</td>\n",
       "      <td>35.0</td>\n",
       "      <td>0</td>\n",
       "      <td>0</td>\n",
       "      <td>373450</td>\n",
       "      <td>8.0500</td>\n",
       "      <td>NaN</td>\n",
       "      <td>S</td>\n",
       "    </tr>\n",
       "  </tbody>\n",
       "</table>\n",
       "</div>"
      ],
      "text/plain": [
       "   PassengerId  Survived  Pclass  \\\n",
       "0            1         0       3   \n",
       "1            2         1       1   \n",
       "2            3         1       3   \n",
       "3            4         1       1   \n",
       "4            5         0       3   \n",
       "\n",
       "                                                Name     Sex   Age  SibSp  \\\n",
       "0                            Braund, Mr. Owen Harris    male  22.0      1   \n",
       "1  Cumings, Mrs. John Bradley (Florence Briggs Th...  female  38.0      1   \n",
       "2                             Heikkinen, Miss. Laina  female  26.0      0   \n",
       "3       Futrelle, Mrs. Jacques Heath (Lily May Peel)  female  35.0      1   \n",
       "4                           Allen, Mr. William Henry    male  35.0      0   \n",
       "\n",
       "   Parch            Ticket     Fare Cabin Embarked  \n",
       "0      0         A/5 21171   7.2500   NaN        S  \n",
       "1      0          PC 17599  71.2833   C85        C  \n",
       "2      0  STON/O2. 3101282   7.9250   NaN        S  \n",
       "3      0            113803  53.1000  C123        S  \n",
       "4      0            373450   8.0500   NaN        S  "
      ]
     },
     "execution_count": 20,
     "metadata": {},
     "output_type": "execute_result"
    }
   ],
   "source": [
    "df.head()"
   ]
  },
  {
   "cell_type": "markdown",
   "metadata": {},
   "source": [
    "### S3 Buckets\n",
    "\n",
    "__1. NICHT serialisierte Dateien direkt aus einem Bucket__<br>\n",
    "Bspw.: `CSV` oder `JSON`-Dateien. <br>\n",
    "Hierzu muss das Sagemaker Notebook, über die erforderliche ExecutionRole, also Berechtigungen für den Bucket verfügen!\n",
    "Diese weist man einem Notebook beim anlegen zu."
   ]
  },
  {
   "cell_type": "code",
   "execution_count": 38,
   "metadata": {},
   "outputs": [],
   "source": [
    "# S3 Muster\n",
    "\n",
    "bucket ='<bucket-name>'\n",
    "data_key = '<path>'\n",
    "file_name = '<file.type>'\n",
    "data_path = f's3://{bucket}/{data_key}/{file_name}'"
   ]
  },
  {
   "cell_type": "code",
   "execution_count": 37,
   "metadata": {},
   "outputs": [
    {
     "name": "stdout",
     "output_type": "stream",
     "text": [
      "s3://<bucket-name>/<path>/<file.type>\n"
     ]
    }
   ],
   "source": [
    "print(f'{data_path}')"
   ]
  },
  {
   "cell_type": "code",
   "execution_count": 31,
   "metadata": {},
   "outputs": [],
   "source": [
    "df = pd.read_csv(data_path, sep=';', decimal=',')"
   ]
  },
  {
   "cell_type": "code",
   "execution_count": 32,
   "metadata": {},
   "outputs": [
    {
     "data": {
      "text/html": [
       "<div>\n",
       "<style scoped>\n",
       "    .dataframe tbody tr th:only-of-type {\n",
       "        vertical-align: middle;\n",
       "    }\n",
       "\n",
       "    .dataframe tbody tr th {\n",
       "        vertical-align: top;\n",
       "    }\n",
       "\n",
       "    .dataframe thead th {\n",
       "        text-align: right;\n",
       "    }\n",
       "</style>\n",
       "<table border=\"1\" class=\"dataframe\">\n",
       "  <thead>\n",
       "    <tr style=\"text-align: right;\">\n",
       "      <th></th>\n",
       "      <th>0</th>\n",
       "      <th>1</th>\n",
       "      <th>2</th>\n",
       "      <th>3</th>\n",
       "      <th>4</th>\n",
       "      <th>5</th>\n",
       "      <th>6</th>\n",
       "      <th>7</th>\n",
       "      <th>8</th>\n",
       "      <th>9</th>\n",
       "      <th>...</th>\n",
       "      <th>49</th>\n",
       "      <th>50</th>\n",
       "      <th>51</th>\n",
       "      <th>52</th>\n",
       "      <th>53</th>\n",
       "      <th>54</th>\n",
       "      <th>55</th>\n",
       "      <th>56</th>\n",
       "      <th>57</th>\n",
       "      <th>58</th>\n",
       "    </tr>\n",
       "  </thead>\n",
       "  <tbody>\n",
       "    <tr>\n",
       "      <th>0</th>\n",
       "      <td>51</td>\n",
       "      <td>0.0</td>\n",
       "      <td>0.0</td>\n",
       "      <td>0.0</td>\n",
       "      <td>5.0</td>\n",
       "      <td>1</td>\n",
       "      <td>12.0</td>\n",
       "      <td>10.0</td>\n",
       "      <td>0.0</td>\n",
       "      <td>I80.28</td>\n",
       "      <td>...</td>\n",
       "      <td>I8</td>\n",
       "      <td>140.0</td>\n",
       "      <td>1.0</td>\n",
       "      <td>300.0</td>\n",
       "      <td>DE</td>\n",
       "      <td>J67</td>\n",
       "      <td>Z</td>\n",
       "      <td>4.0</td>\n",
       "      <td>101.0</td>\n",
       "      <td>R22</td>\n",
       "    </tr>\n",
       "    <tr>\n",
       "      <th>1</th>\n",
       "      <td>81</td>\n",
       "      <td>0.0</td>\n",
       "      <td>0.0</td>\n",
       "      <td>0.0</td>\n",
       "      <td>6.0</td>\n",
       "      <td>2</td>\n",
       "      <td>3.0</td>\n",
       "      <td>3.0</td>\n",
       "      <td>0.0</td>\n",
       "      <td>R00.2</td>\n",
       "      <td>...</td>\n",
       "      <td>R0</td>\n",
       "      <td>502.0</td>\n",
       "      <td>1.0</td>\n",
       "      <td>300.0</td>\n",
       "      <td>DE</td>\n",
       "      <td>F71</td>\n",
       "      <td>B</td>\n",
       "      <td>5.0</td>\n",
       "      <td>301.0</td>\n",
       "      <td>I48</td>\n",
       "    </tr>\n",
       "    <tr>\n",
       "      <th>2</th>\n",
       "      <td>57</td>\n",
       "      <td>0.0</td>\n",
       "      <td>0.0</td>\n",
       "      <td>0.0</td>\n",
       "      <td>2.0</td>\n",
       "      <td>2</td>\n",
       "      <td>1.0</td>\n",
       "      <td>0.0</td>\n",
       "      <td>0.0</td>\n",
       "      <td>M76.6</td>\n",
       "      <td>...</td>\n",
       "      <td>M7</td>\n",
       "      <td>908.0</td>\n",
       "      <td>1.0</td>\n",
       "      <td>10.0</td>\n",
       "      <td>DE</td>\n",
       "      <td>I20</td>\n",
       "      <td>H</td>\n",
       "      <td>2.0</td>\n",
       "      <td>101.0</td>\n",
       "      <td>M76</td>\n",
       "    </tr>\n",
       "    <tr>\n",
       "      <th>3</th>\n",
       "      <td>11</td>\n",
       "      <td>0.0</td>\n",
       "      <td>0.0</td>\n",
       "      <td>0.0</td>\n",
       "      <td>3.0</td>\n",
       "      <td>2</td>\n",
       "      <td>1.0</td>\n",
       "      <td>0.0</td>\n",
       "      <td>0.0</td>\n",
       "      <td>Q04.6</td>\n",
       "      <td>...</td>\n",
       "      <td>Q0</td>\n",
       "      <td>139.0</td>\n",
       "      <td>1.0</td>\n",
       "      <td>34.0</td>\n",
       "      <td>DE</td>\n",
       "      <td>B18</td>\n",
       "      <td>C</td>\n",
       "      <td>6.0</td>\n",
       "      <td>940.0</td>\n",
       "      <td>G91</td>\n",
       "    </tr>\n",
       "    <tr>\n",
       "      <th>4</th>\n",
       "      <td>35</td>\n",
       "      <td>0.0</td>\n",
       "      <td>0.0</td>\n",
       "      <td>0.0</td>\n",
       "      <td>0.0</td>\n",
       "      <td>2</td>\n",
       "      <td>1.0</td>\n",
       "      <td>0.0</td>\n",
       "      <td>1.0</td>\n",
       "      <td>O02.1</td>\n",
       "      <td>...</td>\n",
       "      <td>O0</td>\n",
       "      <td>NaN</td>\n",
       "      <td>1.0</td>\n",
       "      <td>15.0</td>\n",
       "      <td>DE</td>\n",
       "      <td>O40</td>\n",
       "      <td>Z</td>\n",
       "      <td>5.0</td>\n",
       "      <td>101.0</td>\n",
       "      <td>O02</td>\n",
       "    </tr>\n",
       "  </tbody>\n",
       "</table>\n",
       "<p>5 rows × 59 columns</p>\n",
       "</div>"
      ],
      "text/plain": [
       "    0    1    2    3    4  5     6     7    8       9  ...  49     50   51  \\\n",
       "0  51  0.0  0.0  0.0  5.0  1  12.0  10.0  0.0  I80.28  ...  I8  140.0  1.0   \n",
       "1  81  0.0  0.0  0.0  6.0  2   3.0   3.0  0.0   R00.2  ...  R0  502.0  1.0   \n",
       "2  57  0.0  0.0  0.0  2.0  2   1.0   0.0  0.0   M76.6  ...  M7  908.0  1.0   \n",
       "3  11  0.0  0.0  0.0  3.0  2   1.0   0.0  0.0   Q04.6  ...  Q0  139.0  1.0   \n",
       "4  35  0.0  0.0  0.0  0.0  2   1.0   0.0  1.0   O02.1  ...  O0    NaN  1.0   \n",
       "\n",
       "      52  53   54 55   56     57   58  \n",
       "0  300.0  DE  J67  Z  4.0  101.0  R22  \n",
       "1  300.0  DE  F71  B  5.0  301.0  I48  \n",
       "2   10.0  DE  I20  H  2.0  101.0  M76  \n",
       "3   34.0  DE  B18  C  6.0  940.0  G91  \n",
       "4   15.0  DE  O40  Z  5.0  101.0  O02  \n",
       "\n",
       "[5 rows x 59 columns]"
      ]
     },
     "execution_count": 32,
     "metadata": {},
     "output_type": "execute_result"
    }
   ],
   "source": [
    "df.head()"
   ]
  },
  {
   "cell_type": "markdown",
   "metadata": {},
   "source": [
    "__2. SERIALISIERTE Dateien__<br>\n",
    "Bspw.: `pickle`-Dateien.\n"
   ]
  },
  {
   "cell_type": "code",
   "execution_count": null,
   "metadata": {},
   "outputs": [],
   "source": [
    "import pickle\n",
    "import boto3\n",
    "from io import BytesIO\n",
    "import pandas as pd"
   ]
  },
  {
   "cell_type": "code",
   "execution_count": null,
   "metadata": {},
   "outputs": [],
   "source": [
    "# S3 Muster\n",
    "bucket ='<bucket-name>'\n",
    "data_key = '<path>'\n",
    "file_name = '<file.type>'"
   ]
  },
  {
   "cell_type": "code",
   "execution_count": null,
   "metadata": {},
   "outputs": [],
   "source": [
    "s3 = boto3.resource('s3')\n",
    "with BytesIO() as data:\n",
    "    s3.Bucket(bucket).download_fileobj(f\"{data_key}/{file_name}\", data)\n",
    "    data.seek(0)    # move back to the beginning after writing\n",
    "    df = pickle.load(data)"
   ]
  },
  {
   "cell_type": "markdown",
   "metadata": {},
   "source": [
    "## Verarbeiten von Daten"
   ]
  },
  {
   "cell_type": "code",
   "execution_count": 47,
   "metadata": {},
   "outputs": [],
   "source": [
    "from sklearn.linear_model import LinearRegression\n",
    "from sklearn.model_selection import train_test_split"
   ]
  },
  {
   "cell_type": "code",
   "execution_count": 48,
   "metadata": {},
   "outputs": [],
   "source": [
    "X_train, X_test, y_train, y_test = train_test_split(X, y, test_size=0.33, random_state=42)"
   ]
  },
  {
   "cell_type": "code",
   "execution_count": 43,
   "metadata": {},
   "outputs": [],
   "source": [
    "reg = LinearRegression()"
   ]
  },
  {
   "cell_type": "code",
   "execution_count": 49,
   "metadata": {},
   "outputs": [
    {
     "data": {
      "text/plain": [
       "LinearRegression()"
      ]
     },
     "execution_count": 49,
     "metadata": {},
     "output_type": "execute_result"
    }
   ],
   "source": [
    "reg.fit(X_train,y_train)"
   ]
  },
  {
   "cell_type": "code",
   "execution_count": 51,
   "metadata": {},
   "outputs": [],
   "source": [
    "preds = reg.predict(X_test)"
   ]
  },
  {
   "cell_type": "code",
   "execution_count": 54,
   "metadata": {},
   "outputs": [],
   "source": [
    "preds_df = pd.DataFrame(list(zip(preds, y_test)), \n",
    "               columns =['Preds', 'y_test']) "
   ]
  },
  {
   "cell_type": "code",
   "execution_count": 55,
   "metadata": {},
   "outputs": [
    {
     "data": {
      "text/html": [
       "<div>\n",
       "<style scoped>\n",
       "    .dataframe tbody tr th:only-of-type {\n",
       "        vertical-align: middle;\n",
       "    }\n",
       "\n",
       "    .dataframe tbody tr th {\n",
       "        vertical-align: top;\n",
       "    }\n",
       "\n",
       "    .dataframe thead th {\n",
       "        text-align: right;\n",
       "    }\n",
       "</style>\n",
       "<table border=\"1\" class=\"dataframe\">\n",
       "  <thead>\n",
       "    <tr style=\"text-align: right;\">\n",
       "      <th></th>\n",
       "      <th>Preds</th>\n",
       "      <th>y_test</th>\n",
       "    </tr>\n",
       "  </thead>\n",
       "  <tbody>\n",
       "    <tr>\n",
       "      <th>0</th>\n",
       "      <td>28.534695</td>\n",
       "      <td>23.6</td>\n",
       "    </tr>\n",
       "    <tr>\n",
       "      <th>1</th>\n",
       "      <td>36.618701</td>\n",
       "      <td>32.4</td>\n",
       "    </tr>\n",
       "    <tr>\n",
       "      <th>2</th>\n",
       "      <td>15.637511</td>\n",
       "      <td>13.6</td>\n",
       "    </tr>\n",
       "    <tr>\n",
       "      <th>3</th>\n",
       "      <td>25.501450</td>\n",
       "      <td>22.8</td>\n",
       "    </tr>\n",
       "    <tr>\n",
       "      <th>4</th>\n",
       "      <td>18.709673</td>\n",
       "      <td>16.1</td>\n",
       "    </tr>\n",
       "  </tbody>\n",
       "</table>\n",
       "</div>"
      ],
      "text/plain": [
       "       Preds  y_test\n",
       "0  28.534695    23.6\n",
       "1  36.618701    32.4\n",
       "2  15.637511    13.6\n",
       "3  25.501450    22.8\n",
       "4  18.709673    16.1"
      ]
     },
     "execution_count": 55,
     "metadata": {},
     "output_type": "execute_result"
    }
   ],
   "source": [
    "preds_df.head()"
   ]
  },
  {
   "cell_type": "code",
   "execution_count": 50,
   "metadata": {},
   "outputs": [
    {
     "data": {
      "text/plain": [
       "0.7261570836552478"
      ]
     },
     "execution_count": 50,
     "metadata": {},
     "output_type": "execute_result"
    }
   ],
   "source": [
    "reg.score(X_test,y_test)"
   ]
  },
  {
   "cell_type": "markdown",
   "metadata": {},
   "source": [
    "## Visualisiern von Daten"
   ]
  },
  {
   "cell_type": "code",
   "execution_count": 61,
   "metadata": {},
   "outputs": [],
   "source": [
    "import seaborn as sns\n",
    "import matplotlib.pyplot as plt"
   ]
  },
  {
   "cell_type": "code",
   "execution_count": 62,
   "metadata": {},
   "outputs": [
    {
     "data": {
      "text/plain": [
       "Text(0.5, 1.0, 'Vorhersage')"
      ]
     },
     "execution_count": 62,
     "metadata": {},
     "output_type": "execute_result"
    },
    {
     "data": {
      "image/png": "[encoded data removed]",
      "text/plain": [
       "<Figure size 432x288 with 1 Axes>"
      ]
     },
     "metadata": {
      "needs_background": "light"
     },
     "output_type": "display_data"
    }
   ],
   "source": [
    "sns.scatterplot(x=\"Preds\", y=\"y_test\", data=preds_df )\n",
    "plt.title('Vorhersage')"
   ]
  },
  {
   "cell_type": "markdown",
   "metadata": {},
   "source": [
    "## Speichern von Dateien\n",
    "\n",
    "__1.Speicher von nicht serialisierte Dateien mit Pandas direkt in S3__"
   ]
  },
  {
   "cell_type": "code",
   "execution_count": 85,
   "metadata": {},
   "outputs": [],
   "source": [
    "# https://stackoverflow.com/questions/38154040/save-dataframe-to-csv-directly-to-s3-python\n",
    "\n",
    "from io import StringIO # python3; python2: BytesIO \n",
    "import boto3"
   ]
  },
  {
   "cell_type": "code",
   "execution_count": 90,
   "metadata": {},
   "outputs": [
    {
     "data": {
      "text/plain": [
       "{'ResponseMetadata': {'RequestId': '23AF1645F669DD76',\n",
       "  'HostId': 'GGHNjIVPugLcYMem+eVJKXyLUQh7Db+WG/6AQdqNS1XprvRH65WF52TU+VgILKqKKOX6HkD0uPQ=',\n",
       "  'HTTPStatusCode': 200,\n",
       "  'HTTPHeaders': {'x-amz-id-2': 'GGHNjIVPugLcYMem+eVJKXyLUQh7Db+WG/6AQdqNS1XprvRH65WF52TU+VgILKqKKOX6HkD0uPQ=',\n",
       "   'x-amz-request-id': '23AF1645F669DD76',\n",
       "   'date': 'Thu, 15 Oct 2020 15:12:57 GMT',\n",
       "   'x-amz-version-id': '5t3WhFY.xXKy2z8Vg9xjvfi_k86PY2bt',\n",
       "   'x-amz-server-side-encryption': 'AES256',\n",
       "   'etag': '\"6f884b755f29627ad966e45ae82334cd\"',\n",
       "   'content-length': '0',\n",
       "   'server': 'AmazonS3'},\n",
       "  'RetryAttempts': 0},\n",
       " 'ETag': '\"6f884b755f29627ad966e45ae82334cd\"',\n",
       " 'ServerSideEncryption': 'AES256',\n",
       " 'VersionId': '5t3WhFY.xXKy2z8Vg9xjvfi_k86PY2bt'}"
      ]
     },
     "execution_count": 90,
     "metadata": {},
     "output_type": "execute_result"
    }
   ],
   "source": [
    "bucket = 'pista-2020-3' # already created on S3\n",
    "csv_buffer = StringIO()\n",
    "preds_df.to_csv(csv_buffer)\n",
    "s3_resource = boto3.resource('s3')\n",
    "s3_resource.Object(bucket, 'preds_df.csv').put(Body=csv_buffer.getvalue())"
   ]
  },
  {
   "cell_type": "markdown",
   "metadata": {},
   "source": [
    "__2. lokal Speichern und danach zu S3 hochladen__"
   ]
  },
  {
   "cell_type": "code",
   "execution_count": 76,
   "metadata": {},
   "outputs": [],
   "source": [
    "import sagemaker"
   ]
  },
  {
   "cell_type": "code",
   "execution_count": 74,
   "metadata": {},
   "outputs": [],
   "source": [
    "session = sagemaker.Session()"
   ]
  },
  {
   "cell_type": "code",
   "execution_count": 77,
   "metadata": {},
   "outputs": [],
   "source": [
    "preds_df.to_csv('preds.csv')"
   ]
  },
  {
   "cell_type": "code",
   "execution_count": 82,
   "metadata": {},
   "outputs": [
    {
     "name": "stdout",
     "output_type": "stream",
     "text": [
      "Introduction_Sagemaker_Notebooks_de.ipynb  lost+found\r\n"
     ]
    }
   ],
   "source": [
    "# Datei lokal vorhanden\n",
    "! ls"
   ]
  },
  {
   "cell_type": "code",
   "execution_count": 79,
   "metadata": {},
   "outputs": [
    {
     "data": {
      "text/plain": [
       "'s3://pista-2020-3/data/preds.csv'"
      ]
     },
     "execution_count": 79,
     "metadata": {},
     "output_type": "execute_result"
    }
   ],
   "source": [
    "# Verwende die Methode upload_data zum hochladen von lokalen Dateien in S3\n",
    "session.upload_data(path='preds.csv',bucket='<bucket-name>')"
   ]
  },
  {
   "cell_type": "code",
   "execution_count": 83,
   "metadata": {},
   "outputs": [
    {
     "name": "stdout",
     "output_type": "stream",
     "text": [
      "rm: cannot remove ‘preds.csv’: No such file or directory\r\n"
     ]
    }
   ],
   "source": [
    "# Löschen der lokalen Datei\n",
    "! rm preds.csv"
   ]
  },
  {
   "cell_type": "code",
   "execution_count": 81,
   "metadata": {},
   "outputs": [
    {
     "name": "stdout",
     "output_type": "stream",
     "text": [
      "Introduction_Sagemaker_Notebooks_de.ipynb  lost+found\r\n"
     ]
    }
   ],
   "source": [
    "! ls"
   ]
  },
  {
   "cell_type": "code",
   "execution_count": null,
   "metadata": {},
   "outputs": [],
   "source": []
  }
 ],
 "metadata": {
  "kernelspec": {
   "display_name": "conda_tensorflow2_p36",
   "language": "python",
   "name": "conda_tensorflow2_p36"
  },
  "language_info": {
   "codemirror_mode": {
    "name": "ipython",
    "version": 3
   },
   "file_extension": ".py",
   "mimetype": "text/x-python",
   "name": "python",
   "nbconvert_exporter": "python",
   "pygments_lexer": "ipython3",
   "version": "3.6.10"
  }
 },
 "nbformat": 4,
 "nbformat_minor": 4
}
